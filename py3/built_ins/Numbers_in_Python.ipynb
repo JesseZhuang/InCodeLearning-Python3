{
 "cells": [
  {
   "cell_type": "markdown",
   "metadata": {},
   "source": [
    "# Numbers in Python\n",
    "\n",
    "#### by Mingzhang\n",
    "------------------------------------------------------------------"
   ]
  },
  {
   "cell_type": "markdown",
   "metadata": {
    "nbpresent": {
     "id": "113fead3-01a8-4011-a0a8-9c70166a9f3b"
    }
   },
   "source": [
    "#### Outline\n",
    "* Integers in Python\n",
    "* Floats in Python\n",
    "* Jupyter Notebook Tips\n",
    "* Others\n",
    "\n",
    "*There are three distinct numeric types: integers, floating point numbers, and complex numbers. In addition, Booleans are a subtype of integers. Integers have unlimited precision. Floating point numbers are usually implemented using double in C; information about the precision and internal representation of floating point numbers for the machine on which your program is running is available in sys.float_info. Complex numbers have a real and imaginary part, which are each a floating point number.*"
   ]
  },
  {
   "cell_type": "markdown",
   "metadata": {
    "nbpresent": {
     "id": "8578e96f-893a-4321-9b8e-813521bebc2a"
    }
   },
   "source": [
    "## I. Integers"
   ]
  },
  {
   "cell_type": "code",
   "execution_count": 3,
   "metadata": {
    "collapsed": false,
    "nbpresent": {
     "id": "15570dd7-2d49-419e-9878-87d647ca1ead"
    }
   },
   "outputs": [
    {
     "name": "stdout",
     "output_type": "stream",
     "text": [
      "11\n",
      "3\n"
     ]
    }
   ],
   "source": [
    "# convert string to int\n",
    "s = \"11\"\n",
    "d = int(s) # equivalent to int(s, 10)\n",
    "b = int(s, 2)\n",
    "print(d)\n",
    "print(b)"
   ]
  },
  {
   "cell_type": "code",
   "execution_count": 3,
   "metadata": {
    "collapsed": false,
    "nbpresent": {
     "id": "a8703022-b015-4013-b2a6-25c01f79979d"
    }
   },
   "outputs": [
    {
     "name": "stdout",
     "output_type": "stream",
     "text": [
      "1\n",
      "4\n",
      "7\n",
      "10\n",
      "14\n",
      "103\n"
     ]
    }
   ],
   "source": [
    "# How does Python store integers in memory?\n",
    "print((1).bit_length())\n",
    "print((10).bit_length())\n",
    "print((99).bit_length())\n",
    "print((999).bit_length())\n",
    "print((9999).bit_length())\n",
    "print(int(9e30).bit_length())"
   ]
  },
  {
   "cell_type": "markdown",
   "metadata": {
    "nbpresent": {
     "id": "3f6d674f-3440-4498-917f-212c92e39d09"
    }
   },
   "source": [
    "### About ASCII\n",
    "Ref: http://www.ruanyifeng.com/blog/2007/10/ascii_unicode_and_utf-8.html"
   ]
  },
  {
   "cell_type": "code",
   "execution_count": 11,
   "metadata": {
    "collapsed": false,
    "nbpresent": {
     "id": "cf6a87fa-d27f-483d-b327-bfe40ad456e9"
    }
   },
   "outputs": [
    {
     "name": "stdout",
     "output_type": "stream",
     "text": [
      "97\n",
      "a\n"
     ]
    }
   ],
   "source": [
    "# conversion between character and ascii code point\n",
    "print(ord('a'))\n",
    "print(chr(97))"
   ]
  },
  {
   "cell_type": "markdown",
   "metadata": {
    "nbpresent": {
     "id": "e17f98ba-f188-461b-91e4-2422be42ffc9"
    }
   },
   "source": [
    "## II. Floats"
   ]
  },
  {
   "cell_type": "markdown",
   "metadata": {
    "nbpresent": {
     "id": "5a2e9b75-3d8d-4a01-9a41-65de589c7c66"
    }
   },
   "source": [
    "Precision error about floating point numbers"
   ]
  },
  {
   "cell_type": "code",
   "execution_count": 11,
   "metadata": {
    "collapsed": false,
    "nbpresent": {
     "id": "d1edf434-cd23-4a1f-9c79-277fa70be27e"
    }
   },
   "outputs": [
    {
     "data": {
      "text/plain": [
       "0.8999999999999999"
      ]
     },
     "execution_count": 11,
     "metadata": {},
     "output_type": "execute_result"
    }
   ],
   "source": [
    "0.3 * 3"
   ]
  },
  {
   "cell_type": "code",
   "execution_count": 24,
   "metadata": {
    "collapsed": false,
    "nbpresent": {
     "id": "914545f7-337b-4d54-84ca-90ddd1491a9a"
    }
   },
   "outputs": [
    {
     "data": {
      "text/plain": [
       "0.9999999999999999"
      ]
     },
     "execution_count": 24,
     "metadata": {},
     "output_type": "execute_result"
    }
   ],
   "source": [
    "sum(0.1 for i in range(10))"
   ]
  },
  {
   "cell_type": "code",
   "execution_count": 27,
   "metadata": {
    "collapsed": false
   },
   "outputs": [
    {
     "data": {
      "text/plain": [
       "0.0"
      ]
     },
     "execution_count": 27,
     "metadata": {},
     "output_type": "execute_result"
    }
   ],
   "source": [
    "1 / 2**10000"
   ]
  },
  {
   "cell_type": "code",
   "execution_count": 31,
   "metadata": {
    "collapsed": false,
    "nbpresent": {
     "id": "9d714694-9b8e-4509-85ab-a443b2cd9783"
    }
   },
   "outputs": [
    {
     "name": "stdout",
     "output_type": "stream",
     "text": [
      "False\n",
      "False\n",
      "0.9\n",
      "5.012372749206452009297555934E-3011\n"
     ]
    }
   ],
   "source": [
    "from decimal import Decimal\n",
    "\n",
    "print(sum(0.1 for i in range(10)) == 1)\n",
    "print(sum(Decimal(0.1) for i in range(10)) == 1)\n",
    "print(Decimal(\"0.3\")* 3)\n",
    "print(Decimal(1)/Decimal(2**10000))"
   ]
  },
  {
   "cell_type": "code",
   "execution_count": 34,
   "metadata": {
    "collapsed": false
   },
   "outputs": [
    {
     "name": "stdout",
     "output_type": "stream",
     "text": [
      "The slowest run took 111.21 times longer than the fastest. This could mean that an intermediate result is being cached.\n",
      "10000000 loops, best of 3: 22.8 ns per loop\n"
     ]
    }
   ],
   "source": [
    "%timeit 0.3 * 3"
   ]
  },
  {
   "cell_type": "code",
   "execution_count": 35,
   "metadata": {
    "collapsed": false
   },
   "outputs": [
    {
     "name": "stdout",
     "output_type": "stream",
     "text": [
      "The slowest run took 9.24 times longer than the fastest. This could mean that an intermediate result is being cached.\n",
      "100000 loops, best of 3: 4.01 µs per loop\n"
     ]
    }
   ],
   "source": [
    "%timeit Decimal(0.3) * 3"
   ]
  },
  {
   "cell_type": "markdown",
   "metadata": {
    "nbpresent": {
     "id": "794ca140-3e0f-4d2f-b338-62349b047b5a"
    }
   },
   "source": [
    "## III. Operations"
   ]
  },
  {
   "cell_type": "code",
   "execution_count": 4,
   "metadata": {
    "collapsed": false,
    "nbpresent": {
     "id": "9fa2d109-222d-478d-bcca-e1c70d7aa464"
    }
   },
   "outputs": [
    {
     "name": "stdout",
     "output_type": "stream",
     "text": [
      "4\n",
      "2\n",
      "(4, 2)\n"
     ]
    }
   ],
   "source": [
    "print(34//8)  # integer division\n",
    "print(34%8)   # modulus \n",
    "print(divmod(34, 8))  # "
   ]
  },
  {
   "cell_type": "code",
   "execution_count": 10,
   "metadata": {
    "collapsed": false,
    "nbpresent": {
     "id": "348964aa-65c4-4c29-90ce-9354bf5c2dea"
    }
   },
   "outputs": [
    {
     "name": "stdout",
     "output_type": "stream",
     "text": [
      "0.0\n",
      "0.0\n",
      "100.0\n",
      "1300.0\n",
      "1400.0\n",
      "3.0\n",
      "3.1\n",
      "3.14\n",
      "3.2\n"
     ]
    }
   ],
   "source": [
    "print(round(3.14, -2))\n",
    "print(round(13.14, -2))\n",
    "print(round(131.45, -2))\n",
    "print(round(1314.56, -2))\n",
    "print(round(1356.23, -2))\n",
    "print(round(3.14, 0))\n",
    "print(round(3.14, 1))\n",
    "print(round(3.14, 3))\n",
    "print(round(3.16, 1))"
   ]
  },
  {
   "cell_type": "code",
   "execution_count": 20,
   "metadata": {
    "collapsed": false,
    "nbpresent": {
     "id": "a9f21936-097e-48db-bb0d-184a26ab5820"
    }
   },
   "outputs": [
    {
     "name": "stdout",
     "output_type": "stream",
     "text": [
      "The slowest run took 76.63 times longer than the fastest. This could mean that an intermediate result is being cached.\n",
      "10000000 loops, best of 3: 22.7 ns per loop\n"
     ]
    }
   ],
   "source": [
    "%timeit 999**5"
   ]
  },
  {
   "cell_type": "code",
   "execution_count": 21,
   "metadata": {
    "collapsed": false,
    "nbpresent": {
     "id": "d2d197f7-91b6-4170-88bb-32cd4c385b69"
    }
   },
   "outputs": [
    {
     "name": "stdout",
     "output_type": "stream",
     "text": [
      "The slowest run took 75.74 times longer than the fastest. This could mean that an intermediate result is being cached.\n",
      "10000000 loops, best of 3: 22.5 ns per loop\n"
     ]
    }
   ],
   "source": [
    "%timeit 999*999*999*999*999"
   ]
  },
  {
   "cell_type": "code",
   "execution_count": 22,
   "metadata": {
    "collapsed": false,
    "nbpresent": {
     "id": "a1d4e414-d6a9-4b5d-93f1-14a87c524e97"
    }
   },
   "outputs": [
    {
     "name": "stdout",
     "output_type": "stream",
     "text": [
      "The slowest run took 26.08 times longer than the fastest. This could mean that an intermediate result is being cached.\n",
      "1000000 loops, best of 3: 467 ns per loop\n"
     ]
    }
   ],
   "source": [
    "import math\n",
    "%timeit math.pow(999, 5)"
   ]
  },
  {
   "cell_type": "code",
   "execution_count": 23,
   "metadata": {
    "collapsed": false,
    "nbpresent": {
     "id": "78408017-cfc3-4da0-86e4-fe9dee7e4afa"
    }
   },
   "outputs": [
    {
     "data": {
      "text/plain": [
       "['__doc__',\n",
       " '__file__',\n",
       " '__loader__',\n",
       " '__name__',\n",
       " '__package__',\n",
       " '__spec__',\n",
       " 'acos',\n",
       " 'acosh',\n",
       " 'asin',\n",
       " 'asinh',\n",
       " 'atan',\n",
       " 'atan2',\n",
       " 'atanh',\n",
       " 'ceil',\n",
       " 'copysign',\n",
       " 'cos',\n",
       " 'cosh',\n",
       " 'degrees',\n",
       " 'e',\n",
       " 'erf',\n",
       " 'erfc',\n",
       " 'exp',\n",
       " 'expm1',\n",
       " 'fabs',\n",
       " 'factorial',\n",
       " 'floor',\n",
       " 'fmod',\n",
       " 'frexp',\n",
       " 'fsum',\n",
       " 'gamma',\n",
       " 'gcd',\n",
       " 'hypot',\n",
       " 'inf',\n",
       " 'isclose',\n",
       " 'isfinite',\n",
       " 'isinf',\n",
       " 'isnan',\n",
       " 'ldexp',\n",
       " 'lgamma',\n",
       " 'log',\n",
       " 'log10',\n",
       " 'log1p',\n",
       " 'log2',\n",
       " 'modf',\n",
       " 'nan',\n",
       " 'pi',\n",
       " 'pow',\n",
       " 'radians',\n",
       " 'sin',\n",
       " 'sinh',\n",
       " 'sqrt',\n",
       " 'tan',\n",
       " 'tanh',\n",
       " 'trunc']"
      ]
     },
     "execution_count": 23,
     "metadata": {},
     "output_type": "execute_result"
    }
   ],
   "source": [
    "dir(math)"
   ]
  },
  {
   "cell_type": "markdown",
   "metadata": {
    "nbpresent": {
     "id": "dd4ea8e0-8b5a-4438-ac13-255dc53b33e3"
    }
   },
   "source": [
    "## IV. Jupyter Notebook Tips"
   ]
  },
  {
   "cell_type": "markdown",
   "metadata": {
    "nbpresent": {
     "id": "570e9da8-1edc-4184-bb71-2cfaef3a7fc9"
    }
   },
   "source": [
    "* TAB completion\n",
    "* $run script.py\n",
    "* Share and Presentation\n",
    "* %timeit, %time\n",
    "* %pylab inline\n",
    "* ? for introspection\n",
    "* %pwd, %cd, .."
   ]
  },
  {
   "cell_type": "code",
   "execution_count": 39,
   "metadata": {
    "collapsed": false
   },
   "outputs": [
    {
     "data": {
      "text/plain": [
       "'/home/mingzhang/Git'"
      ]
     },
     "execution_count": 39,
     "metadata": {},
     "output_type": "execute_result"
    }
   ],
   "source": [
    "%pwd"
   ]
  },
  {
   "cell_type": "code",
   "execution_count": 4,
   "metadata": {
    "collapsed": false
   },
   "outputs": [
    {
     "name": "stdout",
     "output_type": "stream",
     "text": [
      "/media/sf_E_DRIVE/projects/InCodeLearning-Python3\n"
     ]
    },
    {
     "data": {
      "text/plain": [
       "'/media/sf_E_DRIVE/projects/InCodeLearning-Python3'"
      ]
     },
     "execution_count": 4,
     "metadata": {},
     "output_type": "execute_result"
    }
   ],
   "source": [
    "%cd ..\n",
    "%pwd"
   ]
  },
  {
   "cell_type": "markdown",
   "metadata": {
    "collapsed": true,
    "nbpresent": {
     "id": "6df1eeda-751d-4594-8cd3-9da448765fa4"
    }
   },
   "source": [
    "## Others"
   ]
  },
  {
   "cell_type": "code",
   "execution_count": 9,
   "metadata": {
    "collapsed": false,
    "nbpresent": {
     "id": "060cb0b0-cddc-4c7f-a79d-85a4e025df69"
    }
   },
   "outputs": [
    {
     "name": "stdout",
     "output_type": "stream",
     "text": [
      "0b1100011\n",
      "0x63\n",
      "0o143\n"
     ]
    }
   ],
   "source": [
    "# conversion between different base number systems\n",
    "print(bin(99)) # binary\n",
    "print(hex(99)) # hexadecimal\n",
    "print(oct(99)) # octal"
   ]
  },
  {
   "cell_type": "code",
   "execution_count": 18,
   "metadata": {
    "collapsed": false,
    "nbpresent": {
     "id": "96ea959b-d77d-42cf-b8cc-92e61d8d5ae3"
    }
   },
   "outputs": [
    {
     "name": "stdout",
     "output_type": "stream",
     "text": [
      "3/2\n",
      "True\n"
     ]
    }
   ],
   "source": [
    "from fractions import Fraction\n",
    "\n",
    "a = Fraction(3, 2)\n",
    "print(a)\n",
    "print(a == 1.5)  # interesting considering precision error"
   ]
  }
 ],
 "metadata": {
  "anaconda-cloud": {},
  "kernelspec": {
   "display_name": "Python [Root]",
   "language": "python",
   "name": "Python [Root]"
  },
  "language_info": {
   "codemirror_mode": {
    "name": "ipython",
    "version": 3
   },
   "file_extension": ".py",
   "mimetype": "text/x-python",
   "name": "python",
   "nbconvert_exporter": "python",
   "pygments_lexer": "ipython3",
   "version": "3.5.2"
  },
  "nbpresent": {
   "slides": {
    "3fcc6991-5fce-4aea-b408-27f1d010a372": {
     "id": "3fcc6991-5fce-4aea-b408-27f1d010a372",
     "prev": "f08f25b9-8221-42cf-876a-16e3da75a537",
     "regions": {
      "71c194a5-a64e-4cdc-b0b9-2b426aed77c8": {
       "attrs": {
        "height": 0.8,
        "width": 0.8,
        "x": 0.1,
        "y": 0.1
       },
       "content": {
        "cell": "113fead3-01a8-4011-a0a8-9c70166a9f3b",
        "part": "whole"
       },
       "id": "71c194a5-a64e-4cdc-b0b9-2b426aed77c8"
      }
     }
    },
    "44332d2e-29b0-4289-a617-dc1cb8cdce09": {
     "id": "44332d2e-29b0-4289-a617-dc1cb8cdce09",
     "prev": "44bc5e94-609d-4d2c-b3e3-67c9bc1af66b",
     "regions": {
      "f111679b-6446-45f4-b363-d48072a03a67": {
       "attrs": {
        "height": 0.8,
        "width": 0.8,
        "x": 0.1,
        "y": 0.1
       },
       "content": {
        "cell": "5a2e9b75-3d8d-4a01-9a41-65de589c7c66",
        "part": "whole"
       },
       "id": "f111679b-6446-45f4-b363-d48072a03a67"
      }
     }
    },
    "44bc5e94-609d-4d2c-b3e3-67c9bc1af66b": {
     "id": "44bc5e94-609d-4d2c-b3e3-67c9bc1af66b",
     "prev": "bf9d44f2-62c2-4e40-907f-15767509a427",
     "regions": {
      "5e371670-3189-4a53-acf2-1a2522e65ca7": {
       "attrs": {
        "height": 0.8,
        "width": 0.8,
        "x": 0.1,
        "y": 0.1
       },
       "content": {
        "cell": "e17f98ba-f188-461b-91e4-2422be42ffc9",
        "part": "whole"
       },
       "id": "5e371670-3189-4a53-acf2-1a2522e65ca7"
      }
     }
    },
    "4f299263-697a-4007-886c-c85f69dbb563": {
     "id": "4f299263-697a-4007-886c-c85f69dbb563",
     "prev": "9c3c111f-2e77-4142-93ee-d28bdeba4f7e",
     "regions": {
      "b4e13d2d-b625-4c9a-8443-cf8dfa108791": {
       "attrs": {
        "height": 0.8,
        "width": 0.8,
        "x": 0.1,
        "y": 0.1
       },
       "content": {
        "cell": "9fa2d109-222d-478d-bcca-e1c70d7aa464",
        "part": "whole"
       },
       "id": "b4e13d2d-b625-4c9a-8443-cf8dfa108791"
      }
     }
    },
    "4fd74296-7b54-4752-b594-370a9aefb023": {
     "id": "4fd74296-7b54-4752-b594-370a9aefb023",
     "prev": "f5e5ae73-a803-4d33-af51-d9e5a41e994b",
     "regions": {
      "0e80b75d-47bb-4899-913b-5113798090a8": {
       "attrs": {
        "height": 0.8,
        "width": 0.8,
        "x": 0.1,
        "y": 0.1
       },
       "content": {
        "cell": "a1d4e414-d6a9-4b5d-93f1-14a87c524e97",
        "part": "whole"
       },
       "id": "0e80b75d-47bb-4899-913b-5113798090a8"
      }
     }
    },
    "602dd05c-aa8a-48c0-90dd-2b1296f3f1ad": {
     "id": "602dd05c-aa8a-48c0-90dd-2b1296f3f1ad",
     "prev": "996f5243-f047-40b6-ac71-5381521a8024",
     "regions": {
      "2050c0f8-c9d7-4e15-b9f1-166057398e51": {
       "attrs": {
        "height": 0.8,
        "width": 0.8,
        "x": 0.1,
        "y": 0.1
       },
       "content": {
        "cell": "b197df2c-42f1-4cdf-874c-c417006b3e4c",
        "part": "whole"
       },
       "id": "2050c0f8-c9d7-4e15-b9f1-166057398e51"
      }
     }
    },
    "61c75103-b83a-4302-894e-c0973951a29b": {
     "id": "61c75103-b83a-4302-894e-c0973951a29b",
     "prev": "d1bf3265-1ae7-41b1-a52e-295a8a0035ef",
     "regions": {
      "4c000158-1873-40c5-8591-37280ce41fdc": {
       "attrs": {
        "height": 0.8,
        "width": 0.8,
        "x": 0.1,
        "y": 0.1
       },
       "content": {
        "cell": "a9f21936-097e-48db-bb0d-184a26ab5820",
        "part": "whole"
       },
       "id": "4c000158-1873-40c5-8591-37280ce41fdc"
      }
     }
    },
    "6436119a-49a9-461c-a87a-691c77f15302": {
     "id": "6436119a-49a9-461c-a87a-691c77f15302",
     "prev": "3fcc6991-5fce-4aea-b408-27f1d010a372",
     "regions": {
      "9d223254-3bbd-4901-90a9-4ce0d38c4b7f": {
       "attrs": {
        "height": 0.8,
        "width": 0.8,
        "x": 0.1,
        "y": 0.1
       },
       "content": {
        "cell": "8578e96f-893a-4321-9b8e-813521bebc2a",
        "part": "whole"
       },
       "id": "9d223254-3bbd-4901-90a9-4ce0d38c4b7f"
      }
     }
    },
    "6638ed55-0113-4972-b208-395d9db77777": {
     "id": "6638ed55-0113-4972-b208-395d9db77777",
     "prev": "9d45322b-2d43-409b-a16a-c5402f6dd257",
     "regions": {
      "32f20e8d-791c-4873-b6f6-60af75120132": {
       "attrs": {
        "height": 0.8,
        "width": 0.8,
        "x": 0.1,
        "y": 0.1
       },
       "content": {
        "cell": "6df1eeda-751d-4594-8cd3-9da448765fa4",
        "part": "whole"
       },
       "id": "32f20e8d-791c-4873-b6f6-60af75120132"
      }
     }
    },
    "8124edda-0838-4613-8ebd-7361166ea607": {
     "id": "8124edda-0838-4613-8ebd-7361166ea607",
     "prev": "6638ed55-0113-4972-b208-395d9db77777",
     "regions": {
      "740bab44-362b-4680-bbb7-45632593be7d": {
       "attrs": {
        "height": 0.8,
        "width": 0.8,
        "x": 0.1,
        "y": 0.1
       },
       "content": {
        "cell": "060cb0b0-cddc-4c7f-a79d-85a4e025df69",
        "part": "whole"
       },
       "id": "740bab44-362b-4680-bbb7-45632593be7d"
      }
     }
    },
    "8e0e5245-bb1f-4e08-84ac-4169ee7ef1a9": {
     "id": "8e0e5245-bb1f-4e08-84ac-4169ee7ef1a9",
     "prev": "9aeeb925-3f36-4c17-9878-ea52f4085e7c",
     "regions": {
      "dbae7ab9-3108-4749-b1b4-0243cc7ac551": {
       "attrs": {
        "height": 0.8,
        "width": 0.8,
        "x": 0.1,
        "y": 0.1
       },
       "content": {
        "cell": "9d714694-9b8e-4509-85ab-a443b2cd9783",
        "part": "whole"
       },
       "id": "dbae7ab9-3108-4749-b1b4-0243cc7ac551"
      }
     }
    },
    "93b6fded-bada-4fa0-9952-5d1fe80075e0": {
     "id": "93b6fded-bada-4fa0-9952-5d1fe80075e0",
     "prev": "ba4d10d3-8323-4ed7-a549-48928095a4a0",
     "regions": {
      "50850348-7244-4c16-bdaa-75ea3ccf4bca": {
       "attrs": {
        "height": 0.8,
        "width": 0.8,
        "x": 0.1,
        "y": 0.1
       },
       "content": {
        "cell": "a8703022-b015-4013-b2a6-25c01f79979d",
        "part": "whole"
       },
       "id": "50850348-7244-4c16-bdaa-75ea3ccf4bca"
      }
     }
    },
    "94ed531c-49e4-4d87-aa56-5336b758bfc8": {
     "id": "94ed531c-49e4-4d87-aa56-5336b758bfc8",
     "prev": "8124edda-0838-4613-8ebd-7361166ea607",
     "regions": {
      "ce8b5a46-aec6-4de1-9182-df78844039c1": {
       "attrs": {
        "height": 0.8,
        "width": 0.8,
        "x": 0.1,
        "y": 0.1
       },
       "content": {
        "cell": "96ea959b-d77d-42cf-b8cc-92e61d8d5ae3",
        "part": "whole"
       },
       "id": "ce8b5a46-aec6-4de1-9182-df78844039c1"
      }
     }
    },
    "996f5243-f047-40b6-ac71-5381521a8024": {
     "id": "996f5243-f047-40b6-ac71-5381521a8024",
     "prev": "94ed531c-49e4-4d87-aa56-5336b758bfc8",
     "regions": {
      "92f86cc6-a6fc-4540-952f-17f31ff641ef": {
       "attrs": {
        "height": 0.8,
        "width": 0.8,
        "x": 0.1,
        "y": 0.1
       },
       "content": {
        "cell": "1e4f7e3e-768c-4cc5-9b53-bd1c25f0a5fa",
        "part": "whole"
       },
       "id": "92f86cc6-a6fc-4540-952f-17f31ff641ef"
      }
     }
    },
    "9aeeb925-3f36-4c17-9878-ea52f4085e7c": {
     "id": "9aeeb925-3f36-4c17-9878-ea52f4085e7c",
     "prev": "c1c28a30-6d3a-4c61-85bb-5929051000c4",
     "regions": {
      "92903ef0-7d5f-404f-8cde-89874cbd5f6a": {
       "attrs": {
        "height": 0.8,
        "width": 0.8,
        "x": 0.1,
        "y": 0.1
       },
       "content": {
        "cell": "914545f7-337b-4d54-84ca-90ddd1491a9a",
        "part": "whole"
       },
       "id": "92903ef0-7d5f-404f-8cde-89874cbd5f6a"
      }
     }
    },
    "9c3c111f-2e77-4142-93ee-d28bdeba4f7e": {
     "id": "9c3c111f-2e77-4142-93ee-d28bdeba4f7e",
     "prev": "8e0e5245-bb1f-4e08-84ac-4169ee7ef1a9",
     "regions": {
      "6a4092ee-97dd-44b3-855a-1164ecc4d4c5": {
       "attrs": {
        "height": 0.8,
        "width": 0.8,
        "x": 0.1,
        "y": 0.1
       },
       "content": {
        "cell": "794ca140-3e0f-4d2f-b338-62349b047b5a",
        "part": "whole"
       },
       "id": "6a4092ee-97dd-44b3-855a-1164ecc4d4c5"
      }
     }
    },
    "9d45322b-2d43-409b-a16a-c5402f6dd257": {
     "id": "9d45322b-2d43-409b-a16a-c5402f6dd257",
     "prev": "f14796b1-4c97-4e83-9c03-a6cfc4ff3bab",
     "regions": {
      "e467e6c6-de83-44db-a38e-309fb9a336c5": {
       "attrs": {
        "height": 0.8,
        "width": 0.8,
        "x": 0.1,
        "y": 0.1
       },
       "content": {
        "cell": "570e9da8-1edc-4184-bb71-2cfaef3a7fc9",
        "part": "whole"
       },
       "id": "e467e6c6-de83-44db-a38e-309fb9a336c5"
      }
     }
    },
    "ba4d10d3-8323-4ed7-a549-48928095a4a0": {
     "id": "ba4d10d3-8323-4ed7-a549-48928095a4a0",
     "prev": "6436119a-49a9-461c-a87a-691c77f15302",
     "regions": {
      "4540bc1d-594f-44dd-b1b1-eef1a951e893": {
       "attrs": {
        "height": 0.8,
        "width": 0.8,
        "x": 0.1,
        "y": 0.1
       },
       "content": {
        "cell": "15570dd7-2d49-419e-9878-87d647ca1ead",
        "part": "whole"
       },
       "id": "4540bc1d-594f-44dd-b1b1-eef1a951e893"
      }
     }
    },
    "bf9d44f2-62c2-4e40-907f-15767509a427": {
     "id": "bf9d44f2-62c2-4e40-907f-15767509a427",
     "prev": "e3feca24-f231-4717-ba8e-91b3cc9afe42",
     "regions": {
      "68f5f8f4-d2cf-4601-a227-01e97bd513b2": {
       "attrs": {
        "height": 0.8,
        "width": 0.8,
        "x": 0.1,
        "y": 0.1
       },
       "content": {
        "cell": "cf6a87fa-d27f-483d-b327-bfe40ad456e9",
        "part": "whole"
       },
       "id": "68f5f8f4-d2cf-4601-a227-01e97bd513b2"
      }
     }
    },
    "c1c28a30-6d3a-4c61-85bb-5929051000c4": {
     "id": "c1c28a30-6d3a-4c61-85bb-5929051000c4",
     "prev": "44332d2e-29b0-4289-a617-dc1cb8cdce09",
     "regions": {
      "8ed4fa79-615b-4600-a8e7-842ec9c42c88": {
       "attrs": {
        "height": 0.8,
        "width": 0.8,
        "x": 0.1,
        "y": 0.1
       },
       "content": {
        "cell": "d1edf434-cd23-4a1f-9c79-277fa70be27e",
        "part": "whole"
       },
       "id": "8ed4fa79-615b-4600-a8e7-842ec9c42c88"
      }
     }
    },
    "d1bf3265-1ae7-41b1-a52e-295a8a0035ef": {
     "id": "d1bf3265-1ae7-41b1-a52e-295a8a0035ef",
     "prev": "4f299263-697a-4007-886c-c85f69dbb563",
     "regions": {
      "0e2e7b2d-dbb4-48cf-b748-1ccce758343f": {
       "attrs": {
        "height": 0.8,
        "width": 0.8,
        "x": 0.1,
        "y": 0.1
       },
       "content": {
        "cell": "348964aa-65c4-4c29-90ce-9354bf5c2dea",
        "part": "whole"
       },
       "id": "0e2e7b2d-dbb4-48cf-b748-1ccce758343f"
      }
     }
    },
    "e3feca24-f231-4717-ba8e-91b3cc9afe42": {
     "id": "e3feca24-f231-4717-ba8e-91b3cc9afe42",
     "prev": "93b6fded-bada-4fa0-9952-5d1fe80075e0",
     "regions": {
      "e07f5bb4-920a-4c56-9e69-c810c13a46a8": {
       "attrs": {
        "height": 0.8,
        "width": 0.8,
        "x": 0.1,
        "y": 0.1
       },
       "content": {
        "cell": "3f6d674f-3440-4498-917f-212c92e39d09",
        "part": "whole"
       },
       "id": "e07f5bb4-920a-4c56-9e69-c810c13a46a8"
      }
     }
    },
    "ef7150c9-d6a5-40df-8457-e3ebc8ebfbe0": {
     "id": "ef7150c9-d6a5-40df-8457-e3ebc8ebfbe0",
     "prev": "4fd74296-7b54-4752-b594-370a9aefb023",
     "regions": {
      "94b4b27b-be8a-4478-a10a-9736403c80cc": {
       "attrs": {
        "height": 0.8,
        "width": 0.8,
        "x": 0.1,
        "y": 0.1
       },
       "content": {
        "cell": "78408017-cfc3-4da0-86e4-fe9dee7e4afa",
        "part": "whole"
       },
       "id": "94b4b27b-be8a-4478-a10a-9736403c80cc"
      }
     }
    },
    "f08f25b9-8221-42cf-876a-16e3da75a537": {
     "id": "f08f25b9-8221-42cf-876a-16e3da75a537",
     "prev": null,
     "regions": {
      "a271d475-b0be-46d2-b917-3454ee1be1a1": {
       "attrs": {
        "height": 0.8,
        "width": 0.8,
        "x": 0.1,
        "y": 0.1
       },
       "content": {
        "cell": "e4838403-a2e3-40cf-b94f-7f838d4a93f6",
        "part": "whole"
       },
       "id": "a271d475-b0be-46d2-b917-3454ee1be1a1"
      }
     }
    },
    "f14796b1-4c97-4e83-9c03-a6cfc4ff3bab": {
     "id": "f14796b1-4c97-4e83-9c03-a6cfc4ff3bab",
     "prev": "ef7150c9-d6a5-40df-8457-e3ebc8ebfbe0",
     "regions": {
      "1de6826d-a563-4cad-be60-c9e9bbe670c1": {
       "attrs": {
        "height": 0.8,
        "width": 0.8,
        "x": 0.1,
        "y": 0.1
       },
       "content": {
        "cell": "dd4ea8e0-8b5a-4438-ac13-255dc53b33e3",
        "part": "whole"
       },
       "id": "1de6826d-a563-4cad-be60-c9e9bbe670c1"
      }
     }
    },
    "f5e5ae73-a803-4d33-af51-d9e5a41e994b": {
     "id": "f5e5ae73-a803-4d33-af51-d9e5a41e994b",
     "prev": "61c75103-b83a-4302-894e-c0973951a29b",
     "regions": {
      "4aa35079-f9a3-4c76-8aaa-9118f83f2ae1": {
       "attrs": {
        "height": 0.8,
        "width": 0.8,
        "x": 0.1,
        "y": 0.1
       },
       "content": {
        "cell": "d2d197f7-91b6-4170-88bb-32cd4c385b69",
        "part": "whole"
       },
       "id": "4aa35079-f9a3-4c76-8aaa-9118f83f2ae1"
      }
     }
    }
   },
   "themes": {}
  }
 },
 "nbformat": 4,
 "nbformat_minor": 0
}
