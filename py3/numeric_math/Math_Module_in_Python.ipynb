{
 "cells": [
  {
   "cell_type": "markdown",
   "metadata": {},
   "source": [
    "### Math module in Python\n",
    "##### Mingzhang Yang\n",
    "##### 8-13-2016"
   ]
  },
  {
   "cell_type": "markdown",
   "metadata": {},
   "source": [
    "> The math module in Python provides access to the mathematical functions defined by the C standard.\n",
    "These functions cannot be used with complex numbers; use the functions of the same name from the cmath module if you require support for complex numbers. \n",
    "Except when explicitly noted otherwise, all return values are **floats**."
   ]
  },
  {
   "cell_type": "code",
   "execution_count": 1,
   "metadata": {
    "collapsed": false
   },
   "outputs": [
    {
     "data": {
      "text/plain": [
       "['__doc__',\n",
       " '__file__',\n",
       " '__loader__',\n",
       " '__name__',\n",
       " '__package__',\n",
       " '__spec__',\n",
       " 'acos',\n",
       " 'acosh',\n",
       " 'asin',\n",
       " 'asinh',\n",
       " 'atan',\n",
       " 'atan2',\n",
       " 'atanh',\n",
       " 'ceil',\n",
       " 'copysign',\n",
       " 'cos',\n",
       " 'cosh',\n",
       " 'degrees',\n",
       " 'e',\n",
       " 'erf',\n",
       " 'erfc',\n",
       " 'exp',\n",
       " 'expm1',\n",
       " 'fabs',\n",
       " 'factorial',\n",
       " 'floor',\n",
       " 'fmod',\n",
       " 'frexp',\n",
       " 'fsum',\n",
       " 'gamma',\n",
       " 'gcd',\n",
       " 'hypot',\n",
       " 'inf',\n",
       " 'isclose',\n",
       " 'isfinite',\n",
       " 'isinf',\n",
       " 'isnan',\n",
       " 'ldexp',\n",
       " 'lgamma',\n",
       " 'log',\n",
       " 'log10',\n",
       " 'log1p',\n",
       " 'log2',\n",
       " 'modf',\n",
       " 'nan',\n",
       " 'pi',\n",
       " 'pow',\n",
       " 'radians',\n",
       " 'sin',\n",
       " 'sinh',\n",
       " 'sqrt',\n",
       " 'tan',\n",
       " 'tanh',\n",
       " 'tau',\n",
       " 'trunc']"
      ]
     },
     "execution_count": 1,
     "metadata": {},
     "output_type": "execute_result"
    }
   ],
   "source": [
    "import math\n",
    "dir(math)"
   ]
  },
  {
   "cell_type": "markdown",
   "metadata": {},
   "source": [
    "--------\n",
    "__*round() vs math.ceil() vs math.floor()*__"
   ]
  },
  {
   "cell_type": "code",
   "execution_count": 2,
   "metadata": {
    "collapsed": false
   },
   "outputs": [
    {
     "name": "stdout",
     "output_type": "stream",
     "text": [
      "2\n",
      "3\n",
      "--------------------\n",
      "3\n",
      "3\n",
      "--------------------\n",
      "2\n",
      "2\n"
     ]
    }
   ],
   "source": [
    "print(round(2.1))\n",
    "print(round(2.8))\n",
    "print(\"-\"*20)\n",
    "print(math.ceil(2.1))\n",
    "print(math.ceil(2.8))\n",
    "print(\"-\"*20)\n",
    "print(math.floor(2.1))\n",
    "print(math.floor(2.8))"
   ]
  },
  {
   "cell_type": "markdown",
   "metadata": {},
   "source": [
    "----------\n",
    "__*math.fmod(x, y) vs (x % y)*__\n",
    "\n",
    "math.fmod(x, y)\n",
    "> Return fmod(x, y), as defined by the platform C library. Note that the Python expression x % y may not return the same result. The intent of the C standard is that fmod(x, y) be exactly (mathematically; to infinite precision) equal to x - n*y for some integer n such that the result has the __same sign as x and magnitude less than abs(y)__. __Python’s x % y returns a result with the sign of y instead__, and may not be exactly computable for float arguments. For example, fmod(-1e-100, 1e100) is -1e-100, but the result of Python’s -1e-100 % 1e100 is 1e100-1e-100, which cannot be represented exactly as a float, and rounds to the surprising 1e100. For this reason, function fmod() is generally preferred when working with floats, while Python’s x % y is preferred when working with integers."
   ]
  },
  {
   "cell_type": "code",
   "execution_count": 4,
   "metadata": {
    "collapsed": false
   },
   "outputs": [
    {
     "name": "stdout",
     "output_type": "stream",
     "text": [
      "1.0\n",
      "1\n"
     ]
    }
   ],
   "source": [
    "print(math.fmod(7, 2))\n",
    "print(7 % 2)"
   ]
  },
  {
   "cell_type": "code",
   "execution_count": 6,
   "metadata": {
    "collapsed": false
   },
   "outputs": [
    {
     "name": "stdout",
     "output_type": "stream",
     "text": [
      "1.0\n",
      "-1\n"
     ]
    }
   ],
   "source": [
    "print(math.fmod(7, -2))\n",
    "print(7 % (-2))"
   ]
  },
  {
   "cell_type": "markdown",
   "metadata": {},
   "source": [
    "*Comments: In JavaScript, 7 % (-2) is also 1.*"
   ]
  },
  {
   "cell_type": "markdown",
   "metadata": {},
   "source": [
    "--------\n",
    "__*sum() vs math.fsum()*__\n",
    "> Return an accurate floating point sum of values in the iterable. Avoids loss of precision by tracking multiple intermediate partial sums."
   ]
  },
  {
   "cell_type": "code",
   "execution_count": 7,
   "metadata": {
    "collapsed": false
   },
   "outputs": [
    {
     "name": "stdout",
     "output_type": "stream",
     "text": [
      "0.9999999999999999\n",
      "1.0\n"
     ]
    }
   ],
   "source": [
    "print(sum([0.1 for i in range(10)]))\n",
    "print(math.fsum([0.1 for i in range(10)]))"
   ]
  },
  {
   "cell_type": "markdown",
   "metadata": {},
   "source": [
    "--------\n",
    "_math.gcd(a, b)_\n",
    "> Return the greatest common divisor of the integers a and b. If either a or b is nonzero, then the value of gcd(a, b) is the largest positive integer that divides both a and b. gcd(0, 0) returns 0."
   ]
  },
  {
   "cell_type": "code",
   "execution_count": 8,
   "metadata": {
    "collapsed": false
   },
   "outputs": [
    {
     "data": {
      "text/plain": [
       "5"
      ]
     },
     "execution_count": 8,
     "metadata": {},
     "output_type": "execute_result"
    }
   ],
   "source": [
    "math.gcd(25, 20)"
   ]
  },
  {
   "cell_type": "markdown",
   "metadata": {},
   "source": [
    "--------\n",
    "__*math.isfinite(), math.isinf(), math.isnan()*__"
   ]
  },
  {
   "cell_type": "code",
   "execution_count": 13,
   "metadata": {
    "collapsed": false
   },
   "outputs": [
    {
     "data": {
      "text/plain": [
       "False"
      ]
     },
     "execution_count": 13,
     "metadata": {},
     "output_type": "execute_result"
    }
   ],
   "source": [
    "math.isfinite(math.inf)"
   ]
  },
  {
   "cell_type": "code",
   "execution_count": 14,
   "metadata": {
    "collapsed": false
   },
   "outputs": [
    {
     "data": {
      "text/plain": [
       "True"
      ]
     },
     "execution_count": 14,
     "metadata": {},
     "output_type": "execute_result"
    }
   ],
   "source": [
    "math.isinf(math.inf)"
   ]
  },
  {
   "cell_type": "code",
   "execution_count": 15,
   "metadata": {
    "collapsed": false
   },
   "outputs": [
    {
     "data": {
      "text/plain": [
       "True"
      ]
     },
     "execution_count": 15,
     "metadata": {},
     "output_type": "execute_result"
    }
   ],
   "source": [
    "math.isnan(math.nan)"
   ]
  },
  {
   "cell_type": "markdown",
   "metadata": {},
   "source": [
    "---------\n",
    "__*math.modf() and math.trunc()*__"
   ]
  },
  {
   "cell_type": "code",
   "execution_count": 17,
   "metadata": {
    "collapsed": false
   },
   "outputs": [
    {
     "data": {
      "text/plain": [
       "(0.14150000000000018, 3.0)"
      ]
     },
     "execution_count": 17,
     "metadata": {},
     "output_type": "execute_result"
    }
   ],
   "source": [
    "math.modf(3.1415)"
   ]
  },
  {
   "cell_type": "code",
   "execution_count": 16,
   "metadata": {
    "collapsed": false
   },
   "outputs": [
    {
     "data": {
      "text/plain": [
       "3"
      ]
     },
     "execution_count": 16,
     "metadata": {},
     "output_type": "execute_result"
    }
   ],
   "source": [
    "math.trunc(3.1415)"
   ]
  },
  {
   "cell_type": "markdown",
   "metadata": {},
   "source": [
    "> For the ceil(), floor(), and modf() functions, note that all floating-point numbers of sufficiently large magnitude are exact integers. Python floats typically carry no more than 53 bits of precision (the same as the platform C double type), in which case any float x with abs(x) >= 2**52 necessarily has no fractional bits."
   ]
  },
  {
   "cell_type": "markdown",
   "metadata": {},
   "source": [
    "------\n",
    "__*Power and logarithmic functions*__\n",
    "\n",
    "math.exp(x)\n",
    "> Return e**x.\n",
    "\n",
    "math.expm1(x)\n",
    "> Return e**x - 1.\n",
    "\n",
    "math.log(x[, base])¶\n",
    ">With one argument, return the natural logarithm of x (to base e).\n",
    ">With two arguments, return the logarithm of x to the given base, calculated as log(x)/log(base).\n",
    "\n",
    "math.log2(x)\n",
    "> Return the base-2 logarithm of x. This is usually more accurate than log(x, 2).\n",
    "\n",
    "math.log10(x)\n",
    "> Return the base-10 logarithm of x. This is usually more accurate than log(x, 10).\n",
    "\n",
    "math.pow(x, y)\n",
    "> Return x raised to the power y.\n",
    "> Unlike the built-in \\*\\* operator, math.pow() converts both its arguments to type float. Use \\*\\* or the built-in pow() function for computing exact integer powers.\n",
    "\n",
    "math.sqrt(x)\n",
    "> Return the square root of x."
   ]
  },
  {
   "cell_type": "markdown",
   "metadata": {},
   "source": [
    "-------\n",
    "__*Constants*__\n",
    "\n",
    "math.pi\n",
    "> The mathematical constant π = 3.141592..., to available precision.\n",
    "\n",
    "math.e\n",
    "> The mathematical constant e = 2.718281..., to available precision.\n",
    "\n",
    "math.inf\n",
    "> A floating-point positive infinity. (For negative infinity, use -math.inf.) Equivalent to the output of float('inf').\n",
    "\n",
    "math.nan\n",
    "> A floating-point “not a number” (NaN) value. Equivalent to the output of float('nan')."
   ]
  },
  {
   "cell_type": "code",
   "execution_count": 18,
   "metadata": {
    "collapsed": false
   },
   "outputs": [
    {
     "data": {
      "text/plain": [
       "0.0"
      ]
     },
     "execution_count": 18,
     "metadata": {},
     "output_type": "execute_result"
    }
   ],
   "source": [
    "1/math.inf"
   ]
  },
  {
   "cell_type": "markdown",
   "metadata": {
    "collapsed": true
   },
   "source": [
    "--------\n",
    "#### Unicode and UTF-8\n",
    "> UTF-8 is the most widely Unicode implementation on the internet. Other methods include UTF-16 (2 or 4 bytes) and UTF-32 (4 bytes). UTF-8 uses 1-4 bytes.\n",
    "\n",
    "1. for single byte character, leftmost bit set to 0 and the rest 7 bits are this character's unicode point. So UTF-8 code point is the same to ASCII for code points 0-127.\n",
    "2. For n bytes characters, the leftmost n bits set to 1, n+1 bit set to 0. The rest bytes leftmost 2 bits are 10. The rest unmentioned bits are this character's unicode code point."
   ]
  },
  {
   "cell_type": "markdown",
   "metadata": {},
   "source": [
    "| Unicode code point (hex) | UTF-8 (binary) |\n",
    "| :-------------|:-------------|\n",
    "| 0000 0000-0000 007F | 0xxxxxxx | \n",
    "| 0000 0080-0000 07FF | 110xxxxx 10xxxxxx |\n",
    "| 0000 0800-0000 FFFF | 1110xxxx 10xxxxxx 10xxxxxx |\n",
    "| 0001 0000-0010 FFFF | 11110xxx 10xxxxxx 10xxxxxx 10xxxxxx |"
   ]
  },
  {
   "cell_type": "markdown",
   "metadata": {},
   "source": [
    "> According to the above table, if the leftmost bit is 0, then this byte is a character. If leftmost bit is 1, then the number of 1 bits represent the number of bytes the character uses. For example, the fourth row above had 4 1 bits and the character uses 4 bytes.\n",
    "\n",
    "References:\n",
    "\n",
    "http://www.ruanyifeng.com/blog/2007/10/ascii_unicode_and_utf-8.html\n",
    "https://en.wikipedia.org/wiki/Unicode#UTF"
   ]
  }
 ],
 "metadata": {
  "kernelspec": {
   "display_name": "Python 3",
   "language": "python",
   "name": "python3"
  },
  "language_info": {
   "codemirror_mode": {
    "name": "ipython",
    "version": 3
   },
   "file_extension": ".py",
   "mimetype": "text/x-python",
   "name": "python",
   "nbconvert_exporter": "python",
   "pygments_lexer": "ipython3",
   "version": "3.6.0"
  }
 },
 "nbformat": 4,
 "nbformat_minor": 0
}
